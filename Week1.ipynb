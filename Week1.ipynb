{
 "cells": [
  {
   "cell_type": "code",
   "execution_count": 1,
   "id": "9c1748e3-bc04-4396-bab9-74f629aaa12e",
   "metadata": {},
   "outputs": [
    {
     "name": "stdout",
     "output_type": "stream",
     "text": [
      "10\n",
      "Dimension of x is 0\n",
      "Shape of x is ()\n",
      "Data type of x is  int64\n"
     ]
    }
   ],
   "source": [
    "#Deep Learning Week 1 Programs\n",
    "#1.Write a Program to demonstrate scalar and vector of tensors using numpy and apply key attributes(rank, shape and dtype on each type of tensor). \n",
    "#1a. scalar or 0D tensor \n",
    "import numpy as np \n",
    "x=np.array(10) \n",
    "print(x) \n",
    "print(\"Dimension of x is\",x.ndim) \n",
    "print(\"Shape of x is\",x.shape) \n",
    "print(\"Data type of x is \",x.dtype) "
   ]
  },
  {
   "cell_type": "code",
   "execution_count": 3,
   "id": "b07c73d6-4d74-48f3-b0f7-2b921f7d1a16",
   "metadata": {},
   "outputs": [
    {
     "name": "stdout",
     "output_type": "stream",
     "text": [
      "[1 2 3 4]\n",
      "Dimension of x is 1\n",
      "Shape of x is (4,)\n",
      "Data type of x is  int64\n"
     ]
    }
   ],
   "source": [
    "#1b.Vector or 1D tensor \n",
    "import numpy as np\n",
    "x=np.array([1,2,3,4])\n",
    "print(x) \n",
    "print(\"Dimension of x is\",x.ndim) \n",
    "print(\"Shape of x is\",x.shape)\n",
    "print(\"Data type of x is \",x.dtype) \n"
   ]
  },
  {
   "cell_type": "code",
   "execution_count": 6,
   "id": "30e48b10-c259-4549-b0b1-1805ba990f19",
   "metadata": {},
   "outputs": [
    {
     "name": "stdout",
     "output_type": "stream",
     "text": [
      "[[1 2 3 4]\n",
      " [5 6 7 8]]\n",
      "Dimension of x is 2\n",
      "Shape of x is (2, 4)\n",
      "Data type of x is  int64\n"
     ]
    }
   ],
   "source": [
    "#2. Write a Program to demonstrate Matrix and Rank 3 tensors using numpy and apply key attributes(rank, shape and dtype on each type of tensor). \n",
    "#2a.Matrix or 2D tensor\n",
    "\n",
    "import numpy as np \n",
    "x=np.array([[1,2,3,4],[5,6,7,8]]) \n",
    "print(x) \n",
    "print(\"Dimension of x is\",x.ndim) \n",
    "print(\"Shape of x is\",x.shape) \n",
    "print(\"Data type of x is \",x.dtype)"
   ]
  },
  {
   "cell_type": "code",
   "execution_count": 7,
   "id": "23f91fbf-601e-4b60-9cee-7d8dabcea1a3",
   "metadata": {},
   "outputs": [
    {
     "name": "stdout",
     "output_type": "stream",
     "text": [
      "[[[1 2 3 4]\n",
      "  [5 6 7 8]]\n",
      "\n",
      " [[1 1 1 1]\n",
      "  [2 2 2 2]]]\n",
      "Dimension of x is 3\n",
      "Shape of x is (2, 2, 4)\n",
      "Data type of x is  int64\n"
     ]
    }
   ],
   "source": [
    "#2b.  3D tensor or high dimensional tensor \n",
    "import numpy as np \n",
    "x=np.array([[[1,2,3,4],[5,6,7,8]],[[1,1,1,1],[2,2,2,2]]]) \n",
    "print(x) \n",
    "print(\"Dimension of x is\",x.ndim) \n",
    "print(\"Shape of x is\",x.shape) \n",
    "print(\"Data type of x is \",x.dtype)"
   ]
  },
  {
   "cell_type": "code",
   "execution_count": 12,
   "id": "5fe4a5f2-cfd3-48bc-8735-d84aee5446e9",
   "metadata": {},
   "outputs": [],
   "source": [
    "#3. Write a program to demonstrate Tensor slicing for manipulating tensor\n",
    "\n",
    "#loading mnist dataset\n",
    "from tensorflow.keras.datasets import mnist \n",
    "(train_images, train_labels),(test_images, test_labels) = mnist.load_data() \n"
   ]
  },
  {
   "cell_type": "code",
   "execution_count": 13,
   "id": "14637dcb-041f-434b-a12f-b82ee0e94578",
   "metadata": {},
   "outputs": [
    {
     "name": "stdout",
     "output_type": "stream",
     "text": [
      "MNIST DataSet\n",
      "**************\n",
      "Trained images dimension is 3\n",
      "Trained images shape is (60000, 28, 28)\n",
      "Tained images datatype is uint8\n",
      "Train labels dimension is 1\n",
      "Train labels shape is (60000,)\n",
      "\n",
      "Test images dimension  is  3\n",
      "Test images shape is  (10000, 28, 28)\n",
      "Test labels dimension is 1\n",
      "Test labels shape is (10000,)\n",
      "\n"
     ]
    }
   ],
   "source": [
    "print(\"MNIST DataSet\") \n",
    "print(\"**************\")\n",
    "print(\"Trained images dimension is\",train_images.ndim) \n",
    "print(\"Trained images shape is\",train_images.shape) \n",
    "print(\"Tained images datatype is\",test_images.dtype) \n",
    "print(\"Train labels dimension is\",train_labels.ndim) \n",
    "print(\"Train labels shape is\",train_labels.shape)\n",
    "print() \n",
    "print(\"Test images dimension  is \",test_images.ndim) \n",
    "print(\"Test images shape is \",test_images.shape) \n",
    "print(\"Test labels dimension is\",test_labels.ndim) \n",
    "print(\"Test labels shape is\",test_labels.shape)\n",
    "print() "
   ]
  },
  {
   "cell_type": "code",
   "execution_count": 16,
   "id": "d207b94e-57fa-4d68-a0c1-a7784f237c9d",
   "metadata": {},
   "outputs": [
    {
     "name": "stdout",
     "output_type": "stream",
     "text": [
      "(90, 28, 28)\n",
      "(90, 28, 28)\n",
      "(90, 28, 28)\n",
      "(60000, 14, 14)\n",
      "(60000, 14, 14)\n"
     ]
    }
   ],
   "source": [
    "#manipulating tensors on mnist dataset or tensor slicing operation\n",
    "\n",
    "#To select digits #10 to #100 (#100 isn’t included) \n",
    "\n",
    "slice1 = train_images[10:100] \n",
    "print(slice1.shape) \n",
    "'''Above slicing is equivalent to which specifies a start index and stop index for the  slice along each tensor axis. Note that : is equivalent to selecting the  entire axis'''\n",
    "slice1 = train_images[10:100,:,:] \n",
    "print(slice1.shape) #This statement also equivalent to the above examples  \n",
    "slice1 = train_images[10:100,0:28,0:28] \n",
    "print(slice1.shape) #To select 14 X 14 pixels in the bottom-right corner of all images \n",
    "slice1 = train_images[:,:14,:14] \n",
    "print(slice1.shape) #To crop the images to patches of 14 X 14 pixels centered in the middle \n",
    "slice1 = train_images[:,7:-7,7:-7] \n",
    "print(slice1.shape) "
   ]
  },
  {
   "cell_type": "code",
   "execution_count": null,
   "id": "5f98f33d-580a-4d71-9ec3-aa6d28906594",
   "metadata": {},
   "outputs": [],
   "source": []
  }
 ],
 "metadata": {
  "kernelspec": {
   "display_name": "Python 3 (ipykernel)",
   "language": "python",
   "name": "python3"
  },
  "language_info": {
   "codemirror_mode": {
    "name": "ipython",
    "version": 3
   },
   "file_extension": ".py",
   "mimetype": "text/x-python",
   "name": "python",
   "nbconvert_exporter": "python",
   "pygments_lexer": "ipython3",
   "version": "3.12.2"
  }
 },
 "nbformat": 4,
 "nbformat_minor": 5
}
