{
 "cells": [
  {
   "cell_type": "code",
   "execution_count": null,
   "id": "441f9a47-7479-4e56-ae1d-e2429811fcd8",
   "metadata": {},
   "outputs": [],
   "source": []
  }
 ],
 "metadata": {
  "kernelspec": {
   "display_name": "",
   "name": ""
  },
  "language_info": {
   "name": ""
  }
 },
 "nbformat": 4,
 "nbformat_minor": 5
}
