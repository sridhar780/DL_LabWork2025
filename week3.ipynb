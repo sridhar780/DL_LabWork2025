{
 "cells": [
  {
   "cell_type": "code",
   "execution_count": 6,
   "id": "a3b3815a-196b-45fd-888f-4c9b9ee45a01",
   "metadata": {},
   "outputs": [
    {
     "name": "stdout",
     "output_type": "stream",
     "text": [
      "[[4 6]\n",
      " [3 4]]\n"
     ]
    }
   ],
   "source": [
    "#Deep Learning Week 3 Programs \n",
    "#5. Write a python naive implementation for element wise addition of two tensors. \n",
    "\n",
    "import numpy as np \n",
    "def naïve_add(x,y):      \n",
    "    assert len(x.shape)==2      \n",
    "    assert x.shape==y.shape      \n",
    "    for i in range(x.shape[0]):          \n",
    "        for j in range(x.shape[1]):             \n",
    "            x[i,j]+=y[i,j]     \n",
    "        return x \n",
    "x=np.array([[1,2],[3,4]]) \n",
    "y=np.array([[3,4],[5,6]]) \n",
    "z=naïve_add(x,y)  \n",
    "print(z) "
   ]
  },
  {
   "cell_type": "code",
   "execution_count": 5,
   "id": "82aa8d25-4dcc-4dd3-b26c-07b22e52841b",
   "metadata": {},
   "outputs": [
    {
     "name": "stdout",
     "output_type": "stream",
     "text": [
      "300\n"
     ]
    }
   ],
   "source": [
    "#6. Write a Python program for element wise product. \n",
    "\n",
    "\n",
    "import numpy as np \n",
    "def naive_vector_dot(x,y):   \n",
    "    assert len(x.shape)==1  \n",
    "    assert len(y.shape)==1      \n",
    "    assert x.shape[0]==y.shape[0]     \n",
    "    z=0\n",
    "    for i in range(x.shape[0]):         \n",
    "        z+=x[i]*y[i]\n",
    "    \n",
    "    return z\n",
    "x= np.array([1,2,3,4]) \n",
    "y= np.array([10,20,30,40])  \n",
    "result= naive_vector_dot( x , y)  \n",
    "print(result)"
   ]
  },
  {
   "cell_type": "code",
   "execution_count": 7,
   "id": "989a1f76-2a23-4ebf-82c6-64525a0ea4b6",
   "metadata": {},
   "outputs": [
    {
     "data": {
      "text/plain": [
       "array([[1, 2, 3, 4],\n",
       "       [5, 6, 7, 8],\n",
       "       [0, 5, 6, 3],\n",
       "       [1, 4, 2, 9]])"
      ]
     },
     "execution_count": 7,
     "metadata": {},
     "output_type": "execute_result"
    }
   ],
   "source": [
    "#7. Write a Python program for element wise concatenation.\n",
    "\n",
    "'''Concatenate tensors in axis running vertically downwards across rows is axis 0.'''\n",
    "\n",
    "import numpy as np \n",
    "x=np.array([[1,2,3,4],[5,6,7,8]]) \n",
    "y=np.array([[0,5,6,3],[1,4,2,9]]) \n",
    "np.concatenate([x,y],axis=0)\n",
    "\n"
   ]
  },
  {
   "cell_type": "code",
   "execution_count": 8,
   "id": "ad203de2-1133-4317-a244-8b599f153d59",
   "metadata": {},
   "outputs": [
    {
     "data": {
      "text/plain": [
       "array([[1, 2, 3, 4, 0, 5, 6, 3],\n",
       "       [5, 6, 7, 8, 1, 4, 2, 9]])"
      ]
     },
     "execution_count": 8,
     "metadata": {},
     "output_type": "execute_result"
    }
   ],
   "source": [
    "'''Concatenate tensors in axis running horizontally across columns is axis 1.'''\n",
    "import numpy as np \n",
    "x=np.array([[1,2,3,4],[5,6,7,8]]) \n",
    "y=np.array([[0,5,6,3],[1,4,2,9]]) \n",
    "np.concatenate([x,y],axis=1)"
   ]
  },
  {
   "cell_type": "code",
   "execution_count": 11,
   "id": "b03abb54-c193-4f13-bf7b-64967911e02c",
   "metadata": {},
   "outputs": [
    {
     "data": {
      "text/plain": [
       "array([[1, 2],\n",
       "       [3, 4]])"
      ]
     },
     "execution_count": 11,
     "metadata": {},
     "output_type": "execute_result"
    }
   ],
   "source": [
    "#8.Write a python naive implementation for element wise relu operation \n",
    "\n",
    "import numpy as np  \n",
    "def relu_imp(x):     \n",
    "    assert len (x.shape)==2      \n",
    "    for i in range(x.shape[0]):         \n",
    "        for j in range(x.shape[1]):             \n",
    "            x[i,j]=max(x[i,j],0)      \n",
    "    return x  \n",
    "                \n",
    "x=np.array([[1,2],[3,4]]) \n",
    "relu_imp(x) "
   ]
  },
  {
   "cell_type": "code",
   "execution_count": null,
   "id": "ff89d262-ea6e-4a66-b07b-ebb8e73a7d0d",
   "metadata": {},
   "outputs": [],
   "source": []
  }
 ],
 "metadata": {
  "kernelspec": {
   "display_name": "Python 3 (ipykernel)",
   "language": "python",
   "name": "python3"
  },
  "language_info": {
   "codemirror_mode": {
    "name": "ipython",
    "version": 3
   },
   "file_extension": ".py",
   "mimetype": "text/x-python",
   "name": "python",
   "nbconvert_exporter": "python",
   "pygments_lexer": "ipython3",
   "version": "3.12.2"
  }
 },
 "nbformat": 4,
 "nbformat_minor": 5
}
